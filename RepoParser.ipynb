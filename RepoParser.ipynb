{
 "cells": [
  {
   "cell_type": "markdown",
   "id": "d154894e",
   "metadata": {},
   "source": []
  },
  {
   "cell_type": "code",
   "execution_count": 8,
   "id": "68d2505c",
   "metadata": {},
   "outputs": [
    {
     "name": "stdout",
     "output_type": "stream",
     "text": [
      "Requirement already satisfied: pydriller in c:\\users\\visio\\appdata\\local\\programs\\python\\python39\\lib\\site-packages (2.4)\n",
      "Requirement already satisfied: types-pytz in c:\\users\\visio\\appdata\\local\\programs\\python\\python39\\lib\\site-packages (from pydriller) (2022.7.1.0)\n",
      "Requirement already satisfied: gitpython in c:\\users\\visio\\appdata\\local\\programs\\python\\python39\\lib\\site-packages (from pydriller) (3.1.30)\n",
      "Requirement already satisfied: pytz in c:\\users\\visio\\appdata\\local\\programs\\python\\python39\\lib\\site-packages (from pydriller) (2022.6)\n",
      "Requirement already satisfied: lizard in c:\\users\\visio\\appdata\\local\\programs\\python\\python39\\lib\\site-packages (from pydriller) (1.17.10)\n",
      "Requirement already satisfied: gitdb<5,>=4.0.1 in c:\\users\\visio\\appdata\\local\\programs\\python\\python39\\lib\\site-packages (from gitpython->pydriller) (4.0.10)\n",
      "Requirement already satisfied: smmap<6,>=3.0.1 in c:\\users\\visio\\appdata\\local\\programs\\python\\python39\\lib\\site-packages (from gitdb<5,>=4.0.1->gitpython->pydriller) (5.0.0)\n"
     ]
    },
    {
     "name": "stderr",
     "output_type": "stream",
     "text": [
      "WARNING: Ignoring invalid distribution -otobuf (c:\\users\\visio\\appdata\\local\\programs\\python\\python39\\lib\\site-packages)\n",
      "WARNING: Ignoring invalid distribution -rotobuf (c:\\users\\visio\\appdata\\local\\programs\\python\\python39\\lib\\site-packages)\n",
      "WARNING: Ignoring invalid distribution -otobuf (c:\\users\\visio\\appdata\\local\\programs\\python\\python39\\lib\\site-packages)\n",
      "WARNING: Ignoring invalid distribution -0otobuf (c:\\users\\visio\\appdata\\local\\programs\\python\\python39\\lib\\site-packages)\n",
      "WARNING: Ignoring invalid distribution - (c:\\users\\visio\\appdata\\local\\programs\\python\\python39\\lib\\site-packages)\n",
      "WARNING: Ignoring invalid distribution -ensorflow (c:\\users\\visio\\appdata\\local\\programs\\python\\python39\\lib\\site-packages)\n",
      "WARNING: Ignoring invalid distribution -otobuf (c:\\users\\visio\\appdata\\local\\programs\\python\\python39\\lib\\site-packages)\n",
      "WARNING: Ignoring invalid distribution -rotobuf (c:\\users\\visio\\appdata\\local\\programs\\python\\python39\\lib\\site-packages)\n",
      "WARNING: Ignoring invalid distribution -otobuf (c:\\users\\visio\\appdata\\local\\programs\\python\\python39\\lib\\site-packages)\n",
      "WARNING: Ignoring invalid distribution -0otobuf (c:\\users\\visio\\appdata\\local\\programs\\python\\python39\\lib\\site-packages)\n",
      "WARNING: Ignoring invalid distribution - (c:\\users\\visio\\appdata\\local\\programs\\python\\python39\\lib\\site-packages)\n",
      "WARNING: Ignoring invalid distribution -ensorflow (c:\\users\\visio\\appdata\\local\\programs\\python\\python39\\lib\\site-packages)\n",
      "WARNING: Ignoring invalid distribution -otobuf (c:\\users\\visio\\appdata\\local\\programs\\python\\python39\\lib\\site-packages)\n",
      "WARNING: Ignoring invalid distribution -rotobuf (c:\\users\\visio\\appdata\\local\\programs\\python\\python39\\lib\\site-packages)\n",
      "WARNING: Ignoring invalid distribution -otobuf (c:\\users\\visio\\appdata\\local\\programs\\python\\python39\\lib\\site-packages)\n",
      "WARNING: Ignoring invalid distribution -0otobuf (c:\\users\\visio\\appdata\\local\\programs\\python\\python39\\lib\\site-packages)\n",
      "WARNING: Ignoring invalid distribution - (c:\\users\\visio\\appdata\\local\\programs\\python\\python39\\lib\\site-packages)\n",
      "WARNING: Ignoring invalid distribution -ensorflow (c:\\users\\visio\\appdata\\local\\programs\\python\\python39\\lib\\site-packages)\n",
      "WARNING: Ignoring invalid distribution -otobuf (c:\\users\\visio\\appdata\\local\\programs\\python\\python39\\lib\\site-packages)\n",
      "WARNING: Ignoring invalid distribution -rotobuf (c:\\users\\visio\\appdata\\local\\programs\\python\\python39\\lib\\site-packages)\n",
      "WARNING: Ignoring invalid distribution -otobuf (c:\\users\\visio\\appdata\\local\\programs\\python\\python39\\lib\\site-packages)\n",
      "WARNING: Ignoring invalid distribution -0otobuf (c:\\users\\visio\\appdata\\local\\programs\\python\\python39\\lib\\site-packages)\n",
      "WARNING: Ignoring invalid distribution - (c:\\users\\visio\\appdata\\local\\programs\\python\\python39\\lib\\site-packages)\n",
      "WARNING: Ignoring invalid distribution -ensorflow (c:\\users\\visio\\appdata\\local\\programs\\python\\python39\\lib\\site-packages)\n",
      "WARNING: Ignoring invalid distribution -otobuf (c:\\users\\visio\\appdata\\local\\programs\\python\\python39\\lib\\site-packages)\n",
      "WARNING: Ignoring invalid distribution -rotobuf (c:\\users\\visio\\appdata\\local\\programs\\python\\python39\\lib\\site-packages)\n",
      "WARNING: Ignoring invalid distribution -otobuf (c:\\users\\visio\\appdata\\local\\programs\\python\\python39\\lib\\site-packages)\n",
      "WARNING: Ignoring invalid distribution -0otobuf (c:\\users\\visio\\appdata\\local\\programs\\python\\python39\\lib\\site-packages)\n",
      "WARNING: Ignoring invalid distribution - (c:\\users\\visio\\appdata\\local\\programs\\python\\python39\\lib\\site-packages)\n",
      "WARNING: Ignoring invalid distribution -ensorflow (c:\\users\\visio\\appdata\\local\\programs\\python\\python39\\lib\\site-packages)\n",
      "WARNING: Ignoring invalid distribution -otobuf (c:\\users\\visio\\appdata\\local\\programs\\python\\python39\\lib\\site-packages)\n",
      "WARNING: Ignoring invalid distribution -rotobuf (c:\\users\\visio\\appdata\\local\\programs\\python\\python39\\lib\\site-packages)\n",
      "WARNING: Ignoring invalid distribution -otobuf (c:\\users\\visio\\appdata\\local\\programs\\python\\python39\\lib\\site-packages)\n",
      "WARNING: Ignoring invalid distribution -0otobuf (c:\\users\\visio\\appdata\\local\\programs\\python\\python39\\lib\\site-packages)\n",
      "WARNING: Ignoring invalid distribution - (c:\\users\\visio\\appdata\\local\\programs\\python\\python39\\lib\\site-packages)\n",
      "WARNING: Ignoring invalid distribution -ensorflow (c:\\users\\visio\\appdata\\local\\programs\\python\\python39\\lib\\site-packages)\n",
      "\n",
      "[notice] A new release of pip available: 22.3.1 -> 23.0\n",
      "[notice] To update, run: C:\\Users\\visio\\AppData\\Local\\Programs\\Python\\Python39\\python.exe -m pip install --upgrade pip\n"
     ]
    }
   ],
   "source": [
    "!py -m pip install pydriller"
   ]
  },
  {
   "cell_type": "code",
   "execution_count": 4,
   "id": "843fb3d0",
   "metadata": {},
   "outputs": [],
   "source": [
    "import json\n",
    "import tqdm\n",
    "\n",
    "from pydriller import Repository"
   ]
  },
  {
   "cell_type": "code",
   "execution_count": 7,
   "id": "a73ebfc9",
   "metadata": {},
   "outputs": [
    {
     "name": "stderr",
     "output_type": "stream",
     "text": [
      "100%|████████████████████████████████████████████████████████████████████████████████| 787/787 [00:31<00:00, 25.35it/s]\n"
     ]
    }
   ],
   "source": [
    "programmers = {}\n",
    "count = 0\n",
    "\n",
    "repopath = input() # i.e. https://github.com/ishepard/pydriller\n",
    "for commit in Repository(repopath).traverse_commits():\n",
    "  count += 1\n",
    "\n",
    "for commit in tqdm.tqdm(Repository(repopath).traverse_commits(),\n",
    "                        total=count):\n",
    "    author_id = (commit.author.email, commit.author.name)\n",
    "    programmers[author_id] = {\"name\": commit.author.name, \"commits\": {}}\n",
    "\n",
    "    for file in commit.modified_files:\n",
    "        if file.filename not in programmers[author_id]:\n",
    "            programmers[author_id][\"commits\"][file.filename] = {\"added\": 0, \"deleted\": 0}\n",
    "        programmers[author_id][\"commits\"][file.filename][\"added\"] += file.added_lines\n",
    "        programmers[author_id][\"commits\"][file.filename][\"deleted\"] += file.deleted_lines\n",
    "\n"
   ]
  },
  {
   "cell_type": "code",
   "execution_count": 6,
   "id": "3a56418b",
   "metadata": {},
   "outputs": [
    {
     "data": {
      "text/plain": [
       "{('spadini.davide@gmail.com', 'ishepard'): {'name': 'ishepard',\n",
       "  'commits': {'commit.py': {'added': 2, 'deleted': 2}}},\n",
       " ('spadini.davide@gmail.com', 'Spadini Davide'): {'name': 'Spadini Davide',\n",
       "  'commits': {'.deepsource.toml': {'added': 1, 'deleted': 1}}},\n",
       " ('spadini.davide@gmail.com', 'Davide Spadini'): {'name': 'Davide Spadini',\n",
       "  'commits': {}},\n",
       " ('ledenelintelli@gmail.com', 'Ledenel'): {'name': 'Ledenel',\n",
       "  'commits': {'git_repository.py': {'added': 1, 'deleted': 1}}},\n",
       " ('luca.pascarella@gmail.com', 'Luca Pascarella'): {'name': 'Luca Pascarella',\n",
       "  'commits': {'git_repository.py': {'added': 0, 'deleted': 4}}},\n",
       " ('kanghongjin@gmail.com', 'Kang Hong Jin'): {'name': 'Kang Hong Jin',\n",
       "  'commits': {'git_repository.py': {'added': 2, 'deleted': 9},\n",
       "   'repository_mining.py': {'added': 7, 'deleted': 5},\n",
       "   'test_git_repository.py': {'added': 12, 'deleted': 0},\n",
       "   'test_repository_mining.py': {'added': 21, 'deleted': 0}}},\n",
       " ('cgote@ethz.ch', 'Christoph Gote'): {'name': 'Christoph Gote',\n",
       "  'commits': {'git_repository.py': {'added': 4, 'deleted': 0}}},\n",
       " ('a.serban@cs.ru.nl', 'NullConvergence'): {'name': 'NullConvergence',\n",
       "  'commits': {'test-repos.zip': {'added': 0, 'deleted': 0}}},\n",
       " ('mcastelluccio@mozilla.com',\n",
       "  'Marco Castelluccio'): {'name': 'Marco Castelluccio', 'commits': {'git_repository.py': {'added': 15,\n",
       "    'deleted': 36},\n",
       "   'hyperblame.py': {'added': 0, 'deleted': 282},\n",
       "   'test_git_repository.py': {'added': 19, 'deleted': 6}}},\n",
       " ('Lenny@codematic.com', 'Codematic71'): {'name': 'Codematic71',\n",
       "  'commits': {'tutorial.rst': {'added': 1, 'deleted': 1}}},\n",
       " ('stefano.dallapalma0@gmail.com',\n",
       "  'stefanodallapalma'): {'name': 'stefanodallapalma', 'commits': {'commit.py': {'added': 2,\n",
       "    'deleted': 2}}},\n",
       " ('32761621+yusufsn@users.noreply.github.com',\n",
       "  'Yusuf Sulistyo Nugroho'): {'name': 'Yusuf Sulistyo Nugroho', 'commits': {'README.md': {'added': 13,\n",
       "    'deleted': 0}}},\n",
       " ('j.goodwin049@gmail.com', 'James Goodwin'): {'name': 'James Goodwin',\n",
       "  'commits': {'test_repository_mining.py': {'added': 6, 'deleted': 3}}},\n",
       " ('32632523+NullConvergence@users.noreply.github.com',\n",
       "  'Alex'): {'name': 'Alex', 'commits': {'commit.py': {'added': 1,\n",
       "    'deleted': 1}}},\n",
       " ('arie.vandeursen@tudelft.nl',\n",
       "  'Arie van Deursen'): {'name': 'Arie van Deursen', 'commits': {'deltamaintainability.rst': {'added': 2,\n",
       "    'deleted': 1},\n",
       "   'commit.py': {'added': 9, 'deleted': 14},\n",
       "   'test_dmm.py': {'added': 9, 'deleted': 9}}},\n",
       " ('evan.casey@allstacks.com', 'Evan Casey'): {'name': 'Evan Casey',\n",
       "  'commits': {'test_commit_filters.py': {'added': 41, 'deleted': 1}}},\n",
       " ('stephposs@gmail.com', 'Stephane Poss'): {'name': 'Stephane Poss',\n",
       "  'commits': {'commit.py': {'added': 6, 'deleted': 1}}},\n",
       " ('liuchao890@126.com', 'butterl'): {'name': 'butterl',\n",
       "  'commits': {'commit.py': {'added': 1, 'deleted': 1}}},\n",
       " ('felipe.ebert@gmail.com', 'Felipe Ebert'): {'name': 'Felipe Ebert',\n",
       "  'commits': {'gitrepository.rst': {'added': 1, 'deleted': 1}}},\n",
       " ('dtuchyna@redhat.com', 'Dominik Tuchyna'): {'name': 'Dominik Tuchyna',\n",
       "  'commits': {'processmetrics.rst': {'added': 1, 'deleted': 1}}},\n",
       " ('ropf@itu.dk', 'HelgeCPH'): {'name': 'HelgeCPH',\n",
       "  'commits': {'repository.py': {'added': 1, 'deleted': 2}}},\n",
       " ('dspadini@fb.com', 'Davide Spadini'): {'name': 'Davide Spadini',\n",
       "  'commits': {'developer.py': {'added': 4, 'deleted': 1},\n",
       "   'git.py': {'added': 5, 'deleted': 5},\n",
       "   'change_set.py': {'added': 3, 'deleted': 2},\n",
       "   'code_churn.py': {'added': 3, 'deleted': 2},\n",
       "   'contributors_count.py': {'added': 3, 'deleted': 2},\n",
       "   'lines_count.py': {'added': 3, 'deleted': 2},\n",
       "   'process_metric.py': {'added': 5, 'deleted': 4},\n",
       "   'repository.py': {'added': 12, 'deleted': 12}}},\n",
       " ('stefano.dallapalma0@gmail.com',\n",
       "  'Stefano Dalla Palma'): {'name': 'Stefano Dalla Palma', 'commits': {'test_git_repository.py': {'added': 1,\n",
       "    'deleted': 1}}},\n",
       " ('grzegorz.lato@gmail.com', 'Gregor Lato'): {'name': 'Gregor Lato',\n",
       "  'commits': {'code_churn.py': {'added': 4, 'deleted': 4},\n",
       "   'test_code_churn.py': {'added': 2, 'deleted': 2}}},\n",
       " ('shantanu.oak@gmail.com', 'Shantanu Oak'): {'name': 'Shantanu Oak',\n",
       "  'commits': {'README.md': {'added': 1, 'deleted': 1}}},\n",
       " ('an.dodet@gmail.com', 'andodet'): {'name': 'andodet',\n",
       "  'commits': {'test_repository_mining.py': {'added': 7, 'deleted': 0}}},\n",
       " ('k----n@users.noreply.github.com', 'k----n'): {'name': 'k----n',\n",
       "  'commits': {'modifiedfile.rst': {'added': 2, 'deleted': 2}}},\n",
       " ('9467666+k----n@users.noreply.github.com', 'k----n'): {'name': 'k----n',\n",
       "  'commits': {'commit.rst': {'added': 1, 'deleted': 1}}},\n",
       " ('gliptak@gmail.com', 'Gábor Lipták'): {'name': 'Gábor Lipták',\n",
       "  'commits': {'continuous-integration-workflow.yml': {'added': 3,\n",
       "    'deleted': 3}}},\n",
       " ('th.trummer@gmail.com', 'Thomas Trummer'): {'name': 'Thomas Trummer',\n",
       "  'commits': {'repository.py': {'added': 1, 'deleted': 1}}},\n",
       " ('12f23eddde@gmail.com', '12f23eddde'): {'name': '12f23eddde',\n",
       "  'commits': {'git.py': {'added': 6, 'deleted': 2},\n",
       "   'repository.py': {'added': 8, 'deleted': 1},\n",
       "   'test_repository_mining.py': {'added': 9, 'deleted': 0}}},\n",
       " ('totoroq@outlook.com', 'Yibo Yan'): {'name': 'Yibo Yan',\n",
       "  'commits': {'repository.py': {'added': 0, 'deleted': 5}}},\n",
       " ('stefano.dallapalmapalma0@gmail.com',\n",
       "  'stefanodallapalma'): {'name': 'stefanodallapalma', 'commits': {'commit.py': {'added': 0,\n",
       "    'deleted': 8}}},\n",
       " ('50012463+gremat@users.noreply.github.com', 'gremat'): {'name': 'gremat',\n",
       "  'commits': {'setup.py': {'added': 1, 'deleted': 1}}},\n",
       " ('lgtm-migrator@users.noreply.github.com',\n",
       "  'LGTM Migrator'): {'name': 'LGTM Migrator', 'commits': {'codeql.yml': {'added': 41,\n",
       "    'deleted': 0}}},\n",
       " ('ha.t@cybersierra.co', 'Ha'): {'name': 'Ha',\n",
       "  'commits': {'test_repository_mining.py': {'added': 2, 'deleted': 2}}},\n",
       " ('dspadini@meta.com', 'Davide Spadini'): {'name': 'Davide Spadini',\n",
       "  'commits': {}},\n",
       " ('ondrej.tethal@oracle.com', 'Ondrej Tethal'): {'name': 'Ondrej Tethal',\n",
       "  'commits': {'commit.py': {'added': 1, 'deleted': 1}}}}"
      ]
     },
     "execution_count": 6,
     "metadata": {},
     "output_type": "execute_result"
    }
   ],
   "source": [
    "programmers"
   ]
  },
  {
   "cell_type": "code",
   "execution_count": null,
   "id": "e49f1ab3",
   "metadata": {},
   "outputs": [],
   "source": []
  }
 ],
 "metadata": {
  "kernelspec": {
   "display_name": "Python 3 (ipykernel)",
   "language": "python",
   "name": "python3"
  },
  "language_info": {
   "codemirror_mode": {
    "name": "ipython",
    "version": 3
   },
   "file_extension": ".py",
   "mimetype": "text/x-python",
   "name": "python",
   "nbconvert_exporter": "python",
   "pygments_lexer": "ipython3",
   "version": "3.9.10"
  }
 },
 "nbformat": 4,
 "nbformat_minor": 5
}
